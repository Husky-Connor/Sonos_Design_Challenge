{
 "cells": [
  {
   "cell_type": "code",
   "execution_count": 10,
   "metadata": {},
   "outputs": [],
   "source": [
    "import soco\n",
    "import time\n",
    "default_song = 'http://ia801402.us.archive.org/20/items/TenD2005-07-16.flac16/TenD2005-07-16t10Wonderboy.mp3'"
   ]
  },
  {
   "cell_type": "code",
   "execution_count": 4,
   "metadata": {},
   "outputs": [],
   "source": [
    "def find_zone(zone_name):\n",
    "    for zone in soco.discover():\n",
    "        if zone.player_name == zone_name:\n",
    "            return zone"
   ]
  },
  {
   "cell_type": "code",
   "execution_count": 5,
   "metadata": {},
   "outputs": [],
   "source": [
    "def volume_fade(a_zone, another_zone, seconds):\n",
    "    max_vol = a_zone.volume\n",
    "    sleep_time = seconds / max_vol\n",
    "    for i in range(max_vol):\n",
    "        a_zone.volume = max_vol - i - 1\n",
    "        another_zone.volume = i + 1\n",
    "        time.sleep(sleep_time)"
   ]
  },
  {
   "cell_type": "code",
   "execution_count": 6,
   "metadata": {},
   "outputs": [],
   "source": [
    "def full_stop():\n",
    "    for zone in soco.discover(): zone.pause()"
   ]
  },
  {
   "cell_type": "code",
   "execution_count": 7,
   "metadata": {},
   "outputs": [],
   "source": [
    "def listen():\n",
    "    # Set both pins low\n",
    "    pin_0_current_state = 0\n",
    "    pin_1_current_state = 0\n",
    "    # Monitor both pins\n",
    "    # GPIO call --> read pin 0\n",
    "    # GPIO call --> read pin 1\n",
    "    "
   ]
  },
  {
   "cell_type": "code",
   "execution_count": 18,
   "metadata": {},
   "outputs": [],
   "source": [
    "def main(song_name, volume):\n",
    "    # Constantly search for zones until more than 1 is found\n",
    "    zones = []\n",
    "    count = 0\n",
    "    while len(zones) < 2:\n",
    "        count += 1\n",
    "        print('Attempt #%d'%count)\n",
    "        if soco.discover(): zones = soco.discover()\n",
    "    \n",
    "    # Initialize Volume\n",
    "    zone[0].volume = volume\n",
    "    for zone in zones[1:]:\n",
    "        zone.volume = 0\n",
    "    \n",
    "    # Send play command to all\n",
    "    for zone in zones:\n",
    "        zone.play_uri(song_name)\n",
    "    \n",
    "    # Initialize state\n",
    "        # 0 = Initial Room\n",
    "        # 1 = Other Room\n",
    "    current_state = 0\n",
    "    \n",
    "    # Loop Forever\n",
    "    while True:\n",
    "        # Listen for a room event\n",
    "        room_event = listen()\n",
    "        # If the room event indicates a different position, update state and print\n",
    "        if room_event != current_state:\n",
    "            # Fade between zones\n",
    "            volume_fade(zones[current_state], zones[room_event], 1)\n",
    "            # Update current state\n",
    "            current_state = room_event"
   ]
  },
  {
   "cell_type": "code",
   "execution_count": 3,
   "metadata": {},
   "outputs": [
    {
     "name": "stdout",
     "output_type": "stream",
     "text": [
      "Attempt #1\n",
      "{SoCo(\"192.168.1.5\"), SoCo(\"192.168.1.2\")}\n"
     ]
    }
   ],
   "source": [
    "import soco\n",
    "zones = []\n",
    "count = 0\n",
    "while len(zones) < 2:\n",
    "        count += 1\n",
    "        print('Attempt #%d'%count)\n",
    "        if soco.discover(): zones = soco.discover()\n",
    "print(zones)"
   ]
  },
  {
   "cell_type": "code",
   "execution_count": null,
   "metadata": {},
   "outputs": [],
   "source": []
  }
 ],
 "metadata": {
  "kernelspec": {
   "display_name": "Python 3",
   "language": "python",
   "name": "python3"
  },
  "language_info": {
   "codemirror_mode": {
    "name": "ipython",
    "version": 3
   },
   "file_extension": ".py",
   "mimetype": "text/x-python",
   "name": "python",
   "nbconvert_exporter": "python",
   "pygments_lexer": "ipython3",
   "version": "3.7.3"
  }
 },
 "nbformat": 4,
 "nbformat_minor": 2
}
