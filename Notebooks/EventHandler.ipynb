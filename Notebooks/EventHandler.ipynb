{
 "cells": [
  {
   "cell_type": "code",
   "execution_count": 10,
   "metadata": {},
   "outputs": [],
   "source": [
    "# State Machine --> what room are you in?\n",
    "import socket"
   ]
  },
  {
   "cell_type": "code",
   "execution_count": null,
   "metadata": {},
   "outputs": [
    {
     "name": "stdout",
     "output_type": "stream",
     "text": [
      "You are now in room 0\n",
      "You are now in room 1\n",
      "You are now in room 0\n"
     ]
    }
   ],
   "source": [
    "# Initialize Connection\n",
    "UDP_IP = 'localhost'\n",
    "UDP_PORT = 9001\n",
    "s = socket.socket(socket.AF_INET, socket.SOCK_DGRAM)\n",
    "s.bind((UDP_IP, UDP_PORT))\n",
    "\n",
    "# Initialize State\n",
    "# 1 = Living Room\n",
    "# 0 = Bedroom\n",
    "current_state = 1 # Start in Living Room\n",
    "\n",
    "while True:\n",
    "    # Get a message and decode into a room event\n",
    "    msg, addr = s.recvfrom(1024)\n",
    "    room_event = int(msg.decode())\n",
    "    # If the room event indicates a different room, update state and print\n",
    "    if room_event != current_state:\n",
    "        current_state = room_event\n",
    "        print('You are now in room %d'%current_state)"
   ]
  },
  {
   "cell_type": "code",
   "execution_count": null,
   "metadata": {},
   "outputs": [],
   "source": []
  }
 ],
 "metadata": {
  "kernelspec": {
   "display_name": "Python [conda env:my_base]",
   "language": "python",
   "name": "conda-env-my_base-py"
  },
  "language_info": {
   "codemirror_mode": {
    "name": "ipython",
    "version": 3
   },
   "file_extension": ".py",
   "mimetype": "text/x-python",
   "name": "python",
   "nbconvert_exporter": "python",
   "pygments_lexer": "ipython3",
   "version": "3.7.3"
  }
 },
 "nbformat": 4,
 "nbformat_minor": 2
}
